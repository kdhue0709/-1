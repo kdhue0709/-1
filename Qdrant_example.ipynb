{
  "nbformat": 4,
  "nbformat_minor": 0,
  "metadata": {
    "colab": {
      "provenance": [],
      "authorship_tag": "ABX9TyOQFU+ZVOlUuXjF370EAL0m",
      "include_colab_link": true
    },
    "kernelspec": {
      "name": "python3",
      "display_name": "Python 3"
    },
    "language_info": {
      "name": "python"
    }
  },
  "cells": [
    {
      "cell_type": "markdown",
      "metadata": {
        "id": "view-in-github",
        "colab_type": "text"
      },
      "source": [
        "<a href=\"https://colab.research.google.com/github/kdhue0709/-1/blob/main/Qdrant_example.ipynb\" target=\"_parent\"><img src=\"https://colab.research.google.com/assets/colab-badge.svg\" alt=\"Open In Colab\"/></a>"
      ]
    },
    {
      "cell_type": "code",
      "execution_count": null,
      "metadata": {
        "id": "xXfUg7J5apVt"
      },
      "outputs": [],
      "source": [
        "# https://81d27b00-17bd-4597-aaad-bb7faf154027.us-east4-0.gcp.cloud.qdrant.io:6333\n",
        "# sk-xxx"
      ]
    },
    {
      "cell_type": "code",
      "source": [
        "!pip install langchain qdrant_client openai tiktoken"
      ],
      "metadata": {
        "colab": {
          "base_uri": "https://localhost:8080/"
        },
        "id": "U_tZTvtCbFfC",
        "outputId": "a2a77129-4ba7-4f4b-a278-7a3905f85e29"
      },
      "execution_count": null,
      "outputs": [
        {
          "output_type": "stream",
          "name": "stdout",
          "text": [
            "Requirement already satisfied: langchain in /usr/local/lib/python3.10/dist-packages (0.1.7)\n",
            "Requirement already satisfied: qdrant_client in /usr/local/lib/python3.10/dist-packages (1.7.3)\n",
            "Requirement already satisfied: openai in /usr/local/lib/python3.10/dist-packages (1.12.0)\n",
            "Requirement already satisfied: tiktoken in /usr/local/lib/python3.10/dist-packages (0.6.0)\n",
            "Requirement already satisfied: PyYAML>=5.3 in /usr/local/lib/python3.10/dist-packages (from langchain) (6.0.1)\n",
            "Requirement already satisfied: SQLAlchemy<3,>=1.4 in /usr/local/lib/python3.10/dist-packages (from langchain) (2.0.25)\n",
            "Requirement already satisfied: aiohttp<4.0.0,>=3.8.3 in /usr/local/lib/python3.10/dist-packages (from langchain) (3.9.3)\n",
            "Requirement already satisfied: async-timeout<5.0.0,>=4.0.0 in /usr/local/lib/python3.10/dist-packages (from langchain) (4.0.3)\n",
            "Requirement already satisfied: dataclasses-json<0.7,>=0.5.7 in /usr/local/lib/python3.10/dist-packages (from langchain) (0.6.4)\n",
            "Requirement already satisfied: jsonpatch<2.0,>=1.33 in /usr/local/lib/python3.10/dist-packages (from langchain) (1.33)\n",
            "Requirement already satisfied: langchain-community<0.1,>=0.0.20 in /usr/local/lib/python3.10/dist-packages (from langchain) (0.0.20)\n",
            "Requirement already satisfied: langchain-core<0.2,>=0.1.22 in /usr/local/lib/python3.10/dist-packages (from langchain) (0.1.23)\n",
            "Requirement already satisfied: langsmith<0.1,>=0.0.83 in /usr/local/lib/python3.10/dist-packages (from langchain) (0.0.87)\n",
            "Requirement already satisfied: numpy<2,>=1 in /usr/local/lib/python3.10/dist-packages (from langchain) (1.25.2)\n",
            "Requirement already satisfied: pydantic<3,>=1 in /usr/local/lib/python3.10/dist-packages (from langchain) (2.6.1)\n",
            "Requirement already satisfied: requests<3,>=2 in /usr/local/lib/python3.10/dist-packages (from langchain) (2.31.0)\n",
            "Requirement already satisfied: tenacity<9.0.0,>=8.1.0 in /usr/local/lib/python3.10/dist-packages (from langchain) (8.2.3)\n",
            "Requirement already satisfied: grpcio>=1.41.0 in /usr/local/lib/python3.10/dist-packages (from qdrant_client) (1.60.1)\n",
            "Requirement already satisfied: grpcio-tools>=1.41.0 in /usr/local/lib/python3.10/dist-packages (from qdrant_client) (1.60.1)\n",
            "Requirement already satisfied: httpx[http2]>=0.14.0 in /usr/local/lib/python3.10/dist-packages (from qdrant_client) (0.26.0)\n",
            "Requirement already satisfied: portalocker<3.0.0,>=2.7.0 in /usr/local/lib/python3.10/dist-packages (from qdrant_client) (2.8.2)\n",
            "Requirement already satisfied: urllib3<3,>=1.26.14 in /usr/local/lib/python3.10/dist-packages (from qdrant_client) (2.0.7)\n",
            "Requirement already satisfied: anyio<5,>=3.5.0 in /usr/local/lib/python3.10/dist-packages (from openai) (3.7.1)\n",
            "Requirement already satisfied: distro<2,>=1.7.0 in /usr/lib/python3/dist-packages (from openai) (1.7.0)\n",
            "Requirement already satisfied: sniffio in /usr/local/lib/python3.10/dist-packages (from openai) (1.3.0)\n",
            "Requirement already satisfied: tqdm>4 in /usr/local/lib/python3.10/dist-packages (from openai) (4.66.1)\n",
            "Requirement already satisfied: typing-extensions<5,>=4.7 in /usr/local/lib/python3.10/dist-packages (from openai) (4.9.0)\n",
            "Requirement already satisfied: regex>=2022.1.18 in /usr/local/lib/python3.10/dist-packages (from tiktoken) (2023.12.25)\n",
            "Requirement already satisfied: aiosignal>=1.1.2 in /usr/local/lib/python3.10/dist-packages (from aiohttp<4.0.0,>=3.8.3->langchain) (1.3.1)\n",
            "Requirement already satisfied: attrs>=17.3.0 in /usr/local/lib/python3.10/dist-packages (from aiohttp<4.0.0,>=3.8.3->langchain) (23.2.0)\n",
            "Requirement already satisfied: frozenlist>=1.1.1 in /usr/local/lib/python3.10/dist-packages (from aiohttp<4.0.0,>=3.8.3->langchain) (1.4.1)\n",
            "Requirement already satisfied: multidict<7.0,>=4.5 in /usr/local/lib/python3.10/dist-packages (from aiohttp<4.0.0,>=3.8.3->langchain) (6.0.5)\n",
            "Requirement already satisfied: yarl<2.0,>=1.0 in /usr/local/lib/python3.10/dist-packages (from aiohttp<4.0.0,>=3.8.3->langchain) (1.9.4)\n",
            "Requirement already satisfied: idna>=2.8 in /usr/local/lib/python3.10/dist-packages (from anyio<5,>=3.5.0->openai) (3.6)\n",
            "Requirement already satisfied: exceptiongroup in /usr/local/lib/python3.10/dist-packages (from anyio<5,>=3.5.0->openai) (1.2.0)\n",
            "Requirement already satisfied: marshmallow<4.0.0,>=3.18.0 in /usr/local/lib/python3.10/dist-packages (from dataclasses-json<0.7,>=0.5.7->langchain) (3.20.2)\n",
            "Requirement already satisfied: typing-inspect<1,>=0.4.0 in /usr/local/lib/python3.10/dist-packages (from dataclasses-json<0.7,>=0.5.7->langchain) (0.9.0)\n",
            "Requirement already satisfied: protobuf<5.0dev,>=4.21.6 in /usr/local/lib/python3.10/dist-packages (from grpcio-tools>=1.41.0->qdrant_client) (4.25.2)\n",
            "Requirement already satisfied: setuptools in /usr/local/lib/python3.10/dist-packages (from grpcio-tools>=1.41.0->qdrant_client) (67.7.2)\n",
            "Requirement already satisfied: certifi in /usr/local/lib/python3.10/dist-packages (from httpx[http2]>=0.14.0->qdrant_client) (2024.2.2)\n",
            "Requirement already satisfied: httpcore==1.* in /usr/local/lib/python3.10/dist-packages (from httpx[http2]>=0.14.0->qdrant_client) (1.0.3)\n",
            "Requirement already satisfied: h11<0.15,>=0.13 in /usr/local/lib/python3.10/dist-packages (from httpcore==1.*->httpx[http2]>=0.14.0->qdrant_client) (0.14.0)\n",
            "Requirement already satisfied: h2<5,>=3 in /usr/local/lib/python3.10/dist-packages (from httpx[http2]>=0.14.0->qdrant_client) (4.1.0)\n",
            "Requirement already satisfied: jsonpointer>=1.9 in /usr/local/lib/python3.10/dist-packages (from jsonpatch<2.0,>=1.33->langchain) (2.4)\n",
            "Requirement already satisfied: packaging<24.0,>=23.2 in /usr/local/lib/python3.10/dist-packages (from langchain-core<0.2,>=0.1.22->langchain) (23.2)\n",
            "Requirement already satisfied: annotated-types>=0.4.0 in /usr/local/lib/python3.10/dist-packages (from pydantic<3,>=1->langchain) (0.6.0)\n",
            "Requirement already satisfied: pydantic-core==2.16.2 in /usr/local/lib/python3.10/dist-packages (from pydantic<3,>=1->langchain) (2.16.2)\n",
            "Requirement already satisfied: charset-normalizer<4,>=2 in /usr/local/lib/python3.10/dist-packages (from requests<3,>=2->langchain) (3.3.2)\n",
            "Requirement already satisfied: greenlet!=0.4.17 in /usr/local/lib/python3.10/dist-packages (from SQLAlchemy<3,>=1.4->langchain) (3.0.3)\n",
            "Requirement already satisfied: hyperframe<7,>=6.0 in /usr/local/lib/python3.10/dist-packages (from h2<5,>=3->httpx[http2]>=0.14.0->qdrant_client) (6.0.1)\n",
            "Requirement already satisfied: hpack<5,>=4.0 in /usr/local/lib/python3.10/dist-packages (from h2<5,>=3->httpx[http2]>=0.14.0->qdrant_client) (4.0.0)\n",
            "Requirement already satisfied: mypy-extensions>=0.3.0 in /usr/local/lib/python3.10/dist-packages (from typing-inspect<1,>=0.4.0->dataclasses-json<0.7,>=0.5.7->langchain) (1.0.0)\n"
          ]
        }
      ]
    },
    {
      "cell_type": "code",
      "source": [
        "from langchain.vectorstores import Qdrant\n",
        "from langchain.embeddings.openai import OpenAIEmbeddings\n",
        "import qdrant_client\n",
        "import os"
      ],
      "metadata": {
        "id": "9_eZO82PbF84"
      },
      "execution_count": null,
      "outputs": []
    },
    {
      "cell_type": "code",
      "source": [
        "# create a qdrant client\n",
        "# create하기 전에 API key와 HOST를 변수에 저장\n",
        "os.environ['QDRANT_HOST'] = 'https://81d27b00-17bd-4597-aaad-bb7faf154027.us-east4-0.gcp.cloud.qdrant.io:6333'\n",
        "os.environ['QDRANT_API_KEY'] = 'qdrant_api_key_xxx'\n",
        "\n",
        "# 클러스터에 연결을 허용\n",
        "client = qdrant_client.QdrantClient(\n",
        "    os.getenv(\"QDRANT_HOST\"),\n",
        "    api_key = os.getenv(\"QDRANT_API_KEY\")\n",
        ")\n"
      ],
      "metadata": {
        "id": "rvx2Rbowb1Bl"
      },
      "execution_count": null,
      "outputs": []
    },
    {
      "cell_type": "code",
      "source": [
        "# create collection\n",
        "os.environ['QDRANT_COLLECTION_NAME'] = \"collection_1\"\n",
        "\n",
        "\n",
        "vectors_config = qdrant_client.http.models.VectorParams(\n",
        "    size=1536, # 768 for instuctor-x1, 1536 for openai. we have to be consistent with the same embeddings model for each collection\n",
        "    distance=qdrant_client.http.models.Distance.COSINE\n",
        "    )\n",
        "\n",
        "client.recreate_collection(\n",
        "    collection_name=os.getenv(\"QDRANT_COLLECTION_NAME\"),\n",
        "    vectors_config = vectors_config,\n",
        ")\n",
        "\n"
      ],
      "metadata": {
        "colab": {
          "base_uri": "https://localhost:8080/"
        },
        "id": "i7NJhgHZecye",
        "outputId": "6ecb497f-e78b-4315-e96d-3fe4f7dd3879"
      },
      "execution_count": null,
      "outputs": [
        {
          "output_type": "execute_result",
          "data": {
            "text/plain": [
              "True"
            ]
          },
          "metadata": {},
          "execution_count": 9
        }
      ]
    },
    {
      "cell_type": "code",
      "source": [
        "# create vector store\n",
        "\n",
        "os.environ[\"OPENAI_API_KEY\"] = \"sk-xxx\"\n",
        "\n",
        "embeddings = OpenAIEmbeddings()\n",
        "\n",
        "vector_store = Qdrant(\n",
        "    client=client,\n",
        "    collection_name=os.getenv(\"QDRANT_COLLECTION_NAME\"),\n",
        "    embeddings=embeddings,\n",
        ")"
      ],
      "metadata": {
        "id": "WuBOZYlKoJtf"
      },
      "execution_count": null,
      "outputs": []
    },
    {
      "cell_type": "code",
      "source": [
        "# add documents to vector store\n",
        "\n",
        "from langchain.text_splitter import CharacterTextSplitter\n",
        "\n",
        "# 문장이 길지 않게 split\n",
        "def get_chunks(text):\n",
        "  text_splitter = CharacterTextSplitter(\n",
        "      separator = \"\\n\",\n",
        "      chunk_size = 1000,\n",
        "      chunk_overlap = 200,\n",
        "      length_function = len\n",
        "      )\n",
        "\n",
        "  chunks = text_splitter.split_text(text)\n",
        "  return chunks\n",
        "\n",
        "with open('data.txt') as f:\n",
        "  raw_text = f.read()\n",
        "\n",
        "texts = get_chunks(raw_text)\n",
        "\n",
        "vector_store.add_texts(texts)\n",
        "\n",
        "print(texts)\n"
      ],
      "metadata": {
        "colab": {
          "base_uri": "https://localhost:8080/"
        },
        "id": "5rWWANmrsnPR",
        "outputId": "cc1c40c0-4720-49b9-cfe2-b8db183647e0"
      },
      "execution_count": null,
      "outputs": [
        {
          "output_type": "stream",
          "name": "stdout",
          "text": [
            "['Title: \"The Forgotten Letter\"\\nOnce upon a time in a quaint little town, there lived an elderly woman named Mrs. Thompson. She had spent most of her life in the same cozy house, surrounded by memories and the warmth of nostalgia. Mrs. Thompson was known for her kind heart and the delicious pies she baked for the neighborhood.\\nOne day, as she was rummaging through her attic, Mrs. Thompson stumbled upon an old, dusty box. Curiosity got the better of her, and she opened it to find a stack of letters tied with a faded ribbon. These were letters she had written to her childhood friend, Sarah, many decades ago.\\nAs she read through the letters, Mrs. Thompson was flooded with memories of their adventures, secrets, and dreams they had shared. However, something caught her eye—a letter she had never sent. It was a heartfelt apology for a misunderstanding that had led to a rift between them.', \"Regret weighed heavily on Mrs. Thompson's heart as she realized she had never patched things up with Sarah. Determined to right the wrong, she decided to find her long-lost friend.\\nWith the help of the town's archives and a bit of detective work, Mrs. Thompson tracked down Sarah, who now lived in a nearby nursing home. Nervously, she approached Sarah's room and knocked on the door.\\nWhen Sarah opened the door, there was a moment of hesitation, followed by tears of joy. The two friends embraced, and Mrs. Thompson apologized for the hurt she had unintentionally caused all those years ago.\\nAs they sat together, reminiscing about their shared past, Mrs. Thompson realized the power of forgiveness and the importance of rekindling lost connections. The forgotten letter had not only mended their friendship but also taught Mrs. Thompson a valuable lesson about the preciousness of time and the significance of resolving conflicts before it's too late.\", 'From that day forward, Mrs. Thompson and Sarah became inseparable once again, creating new memories to cherish for the rest of their days. And in the process, they inspired others in the town to cherish their own friendships, ensuring that no letter of apology would ever be left forgotten again.']\n"
          ]
        }
      ]
    },
    {
      "cell_type": "code",
      "source": [
        "# plug vector store into retrieval chain\n",
        "\n",
        "from langchain.chains import RetrievalQA\n",
        "from langchain.llms import OpenAI\n",
        "\n",
        "qa = RetrievalQA.from_chain_type(\n",
        "    llm = OpenAI(),\n",
        "    chain_type = \"stuff\",\n",
        "    retriever = vector_store.as_retriever()\n",
        "\n",
        ")"
      ],
      "metadata": {
        "id": "8YRv9kZL6vrK"
      },
      "execution_count": null,
      "outputs": []
    },
    {
      "cell_type": "code",
      "source": [
        "query = \"How many friends are there and what are their names?\"\n",
        "\n",
        "response = qa.run(query)\n",
        "\n",
        "print(response)"
      ],
      "metadata": {
        "colab": {
          "base_uri": "https://localhost:8080/"
        },
        "id": "vekZL_nyILDg",
        "outputId": "e8952255-eece-43bf-b581-ceb303086066"
      },
      "execution_count": null,
      "outputs": [
        {
          "output_type": "stream",
          "name": "stdout",
          "text": [
            " There are two friends mentioned in the context, Mrs. Thompson and Sarah.\n"
          ]
        }
      ]
    },
    {
      "cell_type": "code",
      "source": [],
      "metadata": {
        "id": "JSu7vheAIjPH"
      },
      "execution_count": null,
      "outputs": []
    }
  ]
}